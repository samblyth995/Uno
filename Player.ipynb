{
  "nbformat": 4,
  "nbformat_minor": 0,
  "metadata": {
    "colab": {
      "provenance": []
    },
    "kernelspec": {
      "name": "python3",
      "display_name": "Python 3"
    },
    "language_info": {
      "name": "python"
    }
  },
  "cells": [
    {
      "cell_type": "code",
      "execution_count": 7,
      "metadata": {
        "id": "064DK0DRJ8Kd"
      },
      "outputs": [],
      "source": [
        "class Player:\n",
        "  def __init__(self, name, hand):\n",
        "    self.name = name\n",
        "    self.hand = [] #needs to be a list of cards"
      ]
    },
    {
      "cell_type": "code",
      "source": [
        "class Game_Round:\n",
        "  def __init__(self,num_players):\n",
        "   self.num_players = num_players\n",
        "   self.players = []"
      ],
      "metadata": {
        "id": "0JNwjJSoOljD"
      },
      "execution_count": 5,
      "outputs": []
    }
  ]
}